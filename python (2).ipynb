{
  "nbformat": 4,
  "nbformat_minor": 0,
  "metadata": {
    "colab": {
      "provenance": []
    },
    "kernelspec": {
      "name": "python3",
      "display_name": "Python 3"
    },
    "language_info": {
      "name": "python"
    }
  },
  "cells": [
    {
      "cell_type": "code",
      "execution_count": null,
      "metadata": {
        "colab": {
          "base_uri": "https://localhost:8080/"
        },
        "id": "x7a2ebpAY9wf",
        "outputId": "f02a7408-09a6-47a4-f3e4-32e11cc6d5bd"
      },
      "outputs": [
        {
          "output_type": "stream",
          "name": "stdout",
          "text": [
            "hello world\n"
          ]
        }
      ],
      "source": [
        "print(\"hello world\")"
      ]
    },
    {
      "cell_type": "code",
      "source": [
        "print(hello world)#double quotes are missing"
      ],
      "metadata": {
        "colab": {
          "base_uri": "https://localhost:8080/",
          "height": 106
        },
        "id": "g1dmLcaubIcX",
        "outputId": "49bebc2f-e656-4751-8bdd-70fd9b25bc2d"
      },
      "execution_count": null,
      "outputs": [
        {
          "output_type": "error",
          "ename": "SyntaxError",
          "evalue": "invalid syntax. Perhaps you forgot a comma? (<ipython-input-3-6135c6da936c>, line 1)",
          "traceback": [
            "\u001b[0;36m  File \u001b[0;32m\"<ipython-input-3-6135c6da936c>\"\u001b[0;36m, line \u001b[0;32m1\u001b[0m\n\u001b[0;31m    print(hello world)\u001b[0m\n\u001b[0m          ^\u001b[0m\n\u001b[0;31mSyntaxError\u001b[0m\u001b[0;31m:\u001b[0m invalid syntax. Perhaps you forgot a comma?\n"
          ]
        }
      ]
    },
    {
      "cell_type": "code",
      "source": [
        "print('hello world')"
      ],
      "metadata": {
        "colab": {
          "base_uri": "https://localhost:8080/"
        },
        "id": "U_zSfUl8bRX_",
        "outputId": "f4dc0d67-c643-418e-a19c-fb3eef66b014"
      },
      "execution_count": null,
      "outputs": [
        {
          "output_type": "stream",
          "name": "stdout",
          "text": [
            "hello world\n"
          ]
        }
      ]
    },
    {
      "cell_type": "code",
      "source": [
        "print(\"charannya\")"
      ],
      "metadata": {
        "colab": {
          "base_uri": "https://localhost:8080/"
        },
        "id": "yTnaNPVEdVoB",
        "outputId": "6e52042c-7994-4d25-c333-94a12422781b"
      },
      "execution_count": null,
      "outputs": [
        {
          "output_type": "stream",
          "name": "stdout",
          "text": [
            "charannya\n"
          ]
        }
      ]
    },
    {
      "cell_type": "code",
      "source": [
        "print(5)"
      ],
      "metadata": {
        "colab": {
          "base_uri": "https://localhost:8080/"
        },
        "id": "3evbq7OPdraP",
        "outputId": "08278b6b-1675-4a3f-9123-a316db23b3b6"
      },
      "execution_count": null,
      "outputs": [
        {
          "output_type": "stream",
          "name": "stdout",
          "text": [
            "5\n"
          ]
        }
      ]
    },
    {
      "cell_type": "code",
      "source": [
        "print(5+4)"
      ],
      "metadata": {
        "colab": {
          "base_uri": "https://localhost:8080/"
        },
        "id": "9FYY2u-ed9e2",
        "outputId": "e40c23a9-fc9e-4247-a2aa-db8ce666a28f"
      },
      "execution_count": null,
      "outputs": [
        {
          "output_type": "stream",
          "name": "stdout",
          "text": [
            "9\n"
          ]
        }
      ]
    },
    {
      "cell_type": "code",
      "source": [
        "print(5%2)"
      ],
      "metadata": {
        "colab": {
          "base_uri": "https://localhost:8080/"
        },
        "id": "6egQY9YQeRPF",
        "outputId": "530cb831-05dd-498b-be92-b45ca520ea24"
      },
      "execution_count": null,
      "outputs": [
        {
          "output_type": "stream",
          "name": "stdout",
          "text": [
            "1\n"
          ]
        }
      ]
    },
    {
      "cell_type": "code",
      "source": [
        "print(8-2)"
      ],
      "metadata": {
        "colab": {
          "base_uri": "https://localhost:8080/"
        },
        "id": "dFD0hwYZegp8",
        "outputId": "027ad449-13d9-40b1-d4fc-67d72c987d80"
      },
      "execution_count": null,
      "outputs": [
        {
          "output_type": "stream",
          "name": "stdout",
          "text": [
            "6\n"
          ]
        }
      ]
    },
    {
      "cell_type": "code",
      "source": [
        "print(10000000008888885555555999999966666333377774444)"
      ],
      "metadata": {
        "colab": {
          "base_uri": "https://localhost:8080/"
        },
        "id": "teH7CZ32eptd",
        "outputId": "16c35eb4-dee5-46b3-c278-09ff94b0d0cc"
      },
      "execution_count": null,
      "outputs": [
        {
          "output_type": "stream",
          "name": "stdout",
          "text": [
            "10000000008888885555555999999966666333377774444\n"
          ]
        }
      ]
    },
    {
      "cell_type": "code",
      "source": [
        "print(\"hello world\")\n",
        "print(\"hello KGRCET\")\n",
        "print(\"welcome to python workshop\")\n"
      ],
      "metadata": {
        "colab": {
          "base_uri": "https://localhost:8080/"
        },
        "id": "09kqOi_gfRph",
        "outputId": "85eca585-4b57-4410-b124-db77d9a4a0a8"
      },
      "execution_count": null,
      "outputs": [
        {
          "output_type": "stream",
          "name": "stdout",
          "text": [
            "hello world\n",
            "hello KGRCET\n",
            "welcome to python workshop\n"
          ]
        }
      ]
    },
    {
      "cell_type": "code",
      "source": [
        "name=input(\"enter your name:\")\n",
        "print(\"hello,\"+name)"
      ],
      "metadata": {
        "colab": {
          "base_uri": "https://localhost:8080/"
        },
        "id": "wHcwcPuWmGYN",
        "outputId": "cfbc34bb-977b-4000-be55-26c32794aabd"
      },
      "execution_count": null,
      "outputs": [
        {
          "output_type": "stream",
          "name": "stdout",
          "text": [
            "enter your name:charannya\n",
            "hello,charannya\n"
          ]
        }
      ]
    },
    {
      "cell_type": "code",
      "source": [
        "Roll_no=input(\"enter your Roll_no:\")\n",
        "print(\"hello,\"+Roll_no)"
      ],
      "metadata": {
        "colab": {
          "base_uri": "https://localhost:8080/"
        },
        "id": "1uoVOTyImu_E",
        "outputId": "fc43e81b-5dc1-4131-8765-a4f3c2e60429"
      },
      "execution_count": null,
      "outputs": [
        {
          "output_type": "stream",
          "name": "stdout",
          "text": [
            "enter your Roll_no:24QM1A6630\n",
            "hello,24QM1A6630\n"
          ]
        }
      ]
    },
    {
      "cell_type": "code",
      "source": [
        "import keyword\n",
        "#printing all keywords at once using \"kwlist()\n",
        "print(\"the list of keywords is:\")\n",
        "print(keyword.kwlist)"
      ],
      "metadata": {
        "colab": {
          "base_uri": "https://localhost:8080/"
        },
        "id": "i0XoDfJ0oI8n",
        "outputId": "2b4dc3f2-d178-4b74-b9a1-653fec6c79e2"
      },
      "execution_count": null,
      "outputs": [
        {
          "output_type": "stream",
          "name": "stdout",
          "text": [
            "the list of keywords is:\n",
            "['False', 'None', 'True', 'and', 'as', 'assert', 'async', 'await', 'break', 'class', 'continue', 'def', 'del', 'elif', 'else', 'except', 'finally', 'for', 'from', 'global', 'if', 'import', 'in', 'is', 'lambda', 'nonlocal', 'not', 'or', 'pass', 'raise', 'return', 'try', 'while', 'with', 'yield']\n"
          ]
        }
      ]
    },
    {
      "cell_type": "code",
      "source": [
        "x=10\n",
        "print(x)"
      ],
      "metadata": {
        "colab": {
          "base_uri": "https://localhost:8080/"
        },
        "id": "Z_FbORNJsdw5",
        "outputId": "5d00b0db-895a-4e01-b5fb-e3b6fbbbc482"
      },
      "execution_count": null,
      "outputs": [
        {
          "output_type": "stream",
          "name": "stdout",
          "text": [
            "10\n"
          ]
        }
      ]
    },
    {
      "cell_type": "code",
      "source": [
        "x=\"kgrcet\"\n",
        "print(x)"
      ],
      "metadata": {
        "colab": {
          "base_uri": "https://localhost:8080/"
        },
        "id": "WdXBcVTCtUJe",
        "outputId": "6a2694a6-ba31-4b1b-ebc0-3aeef4fcf816"
      },
      "execution_count": null,
      "outputs": [
        {
          "output_type": "stream",
          "name": "stdout",
          "text": [
            "kgrcet\n"
          ]
        }
      ]
    },
    {
      "cell_type": "code",
      "source": [
        "age=18\n",
        "print(\"i am \"+str(age)+\" years old\")"
      ],
      "metadata": {
        "colab": {
          "base_uri": "https://localhost:8080/"
        },
        "id": "Ao5uaoPotfYv",
        "outputId": "d4574de7-c73a-4a6b-f1bd-3fd5058dcbdf"
      },
      "execution_count": null,
      "outputs": [
        {
          "output_type": "stream",
          "name": "stdout",
          "text": [
            "i am 18 years old\n"
          ]
        }
      ]
    },
    {
      "cell_type": "code",
      "source": [],
      "metadata": {
        "id": "JkWDGxXa8SFy"
      },
      "execution_count": null,
      "outputs": []
    },
    {
      "cell_type": "markdown",
      "source": [
        "#age program\n"
      ],
      "metadata": {
        "id": "OISazNZk8cTb"
      }
    },
    {
      "cell_type": "code",
      "source": [
        "x=\"5\"\n",
        "y=\"kgrcet\"\n",
        "print(x)\n",
        "print(y)"
      ],
      "metadata": {
        "colab": {
          "base_uri": "https://localhost:8080/"
        },
        "id": "ck0Mao7I8rAQ",
        "outputId": "6a16f242-328b-42ce-bc6a-a12f1a6042e9"
      },
      "execution_count": null,
      "outputs": [
        {
          "output_type": "stream",
          "name": "stdout",
          "text": [
            "5\n",
            "kgrcet\n"
          ]
        }
      ]
    },
    {
      "cell_type": "code",
      "source": [
        "x=\"python\"\n",
        "y=\"is\"\n",
        "z=\"awesome\"\n",
        "print(x,y,z)"
      ],
      "metadata": {
        "colab": {
          "base_uri": "https://localhost:8080/"
        },
        "id": "PJkadXu39rzN",
        "outputId": "de2119f2-8165-4368-a3a3-ec5b234bef23"
      },
      "execution_count": null,
      "outputs": [
        {
          "output_type": "stream",
          "name": "stdout",
          "text": [
            "python is awesome\n"
          ]
        }
      ]
    },
    {
      "cell_type": "code",
      "source": [
        "x=500\n",
        "y=\"kgr\"\n",
        "print(x,y)"
      ],
      "metadata": {
        "colab": {
          "base_uri": "https://localhost:8080/"
        },
        "id": "WPKEWkkU-VHU",
        "outputId": "e87faca1-e5f3-49d0-82f5-5c16ed4f6379"
      },
      "execution_count": null,
      "outputs": [
        {
          "output_type": "stream",
          "name": "stdout",
          "text": [
            "500 kgr\n"
          ]
        }
      ]
    },
    {
      "cell_type": "code",
      "source": [
        "x=y=z=3\n",
        "x\n",
        "y\n",
        "z"
      ],
      "metadata": {
        "colab": {
          "base_uri": "https://localhost:8080/"
        },
        "id": "r2hVHJjw_t4g",
        "outputId": "282fdf5d-1c26-44f4-8f88-fb0e370c5f2f"
      },
      "execution_count": null,
      "outputs": [
        {
          "output_type": "execute_result",
          "data": {
            "text/plain": [
              "3"
            ]
          },
          "metadata": {},
          "execution_count": 38
        }
      ]
    },
    {
      "cell_type": "markdown",
      "source": [
        "#swapping numbers"
      ],
      "metadata": {
        "id": "w00dL3ig_ziJ"
      }
    },
    {
      "cell_type": "code",
      "source": [
        "a=10\n",
        "b=20\n",
        "a,b=b,a"
      ],
      "metadata": {
        "id": "qZ6EER9f_1Qp"
      },
      "execution_count": null,
      "outputs": []
    },
    {
      "cell_type": "code",
      "source": [
        "x,y,z=\"orange\",\"banana\",\"cherry\"\n",
        "print(x)\n",
        "print(y)\n",
        "print(z)"
      ],
      "metadata": {
        "colab": {
          "base_uri": "https://localhost:8080/"
        },
        "id": "rWCinMngARu-",
        "outputId": "e2d6cb94-e2af-44f9-9dbe-79dec3046a30"
      },
      "execution_count": null,
      "outputs": [
        {
          "output_type": "stream",
          "name": "stdout",
          "text": [
            "orange\n",
            "banana\n",
            "cherry\n"
          ]
        }
      ]
    },
    {
      "cell_type": "code",
      "source": [
        "x=y=z=\"orange\"\n",
        "print(x)\n",
        "print(y)\n",
        "print(z)"
      ],
      "metadata": {
        "colab": {
          "base_uri": "https://localhost:8080/"
        },
        "id": "GY4CG38WBdjK",
        "outputId": "357171fa-4498-403e-fef8-1279fa14c026"
      },
      "execution_count": null,
      "outputs": [
        {
          "output_type": "stream",
          "name": "stdout",
          "text": [
            "orange\n",
            "orange\n",
            "orange\n"
          ]
        }
      ]
    },
    {
      "cell_type": "code",
      "source": [
        "x=str(3)\n",
        "y=int(3)\n",
        "z=float(3)"
      ],
      "metadata": {
        "id": "7-jaKizIB3Ox"
      },
      "execution_count": null,
      "outputs": []
    },
    {
      "cell_type": "code",
      "source": [
        "x=5\n",
        "print(type(x))\n",
        "print(type(y))"
      ],
      "metadata": {
        "colab": {
          "base_uri": "https://localhost:8080/"
        },
        "id": "jq-TAvFwC-G-",
        "outputId": "c426298d-c7a4-40c4-ddcc-20c128ec2631"
      },
      "execution_count": null,
      "outputs": [
        {
          "output_type": "stream",
          "name": "stdout",
          "text": [
            "<class 'int'>\n",
            "<class 'int'>\n"
          ]
        }
      ]
    },
    {
      "cell_type": "code",
      "source": [
        "a=5\n",
        "print(type(a))\n",
        "b=5.0\n",
        "print(type(b))\n",
        "c=4+5j\n",
        "print(type(c))"
      ],
      "metadata": {
        "colab": {
          "base_uri": "https://localhost:8080/"
        },
        "id": "uZ7JFSEVDJgl",
        "outputId": "473b88df-b897-47cd-a9a0-c548c0495f8f"
      },
      "execution_count": null,
      "outputs": [
        {
          "output_type": "stream",
          "name": "stdout",
          "text": [
            "<class 'int'>\n",
            "<class 'float'>\n",
            "<class 'complex'>\n"
          ]
        }
      ]
    },
    {
      "cell_type": "code",
      "source": [
        "s=\"welcome to python workshop\"\n",
        "print(s)\n",
        "print(type(s))\n",
        "print(s[1])\n",
        "print(s[2])\n",
        "print(s[-1])"
      ],
      "metadata": {
        "colab": {
          "base_uri": "https://localhost:8080/"
        },
        "id": "wEYPyblbHEox",
        "outputId": "a7020321-7cd4-4527-a94f-2ae3faad78c7"
      },
      "execution_count": null,
      "outputs": [
        {
          "output_type": "stream",
          "name": "stdout",
          "text": [
            "welcome to python workshop\n",
            "<class 'str'>\n",
            "e\n",
            "l\n",
            "p\n"
          ]
        }
      ]
    },
    {
      "cell_type": "code",
      "source": [
        "s=\"this is charannya\"\n",
        "s[9]"
      ],
      "metadata": {
        "colab": {
          "base_uri": "https://localhost:8080/",
          "height": 35
        },
        "id": "gS9pk3VjIK0m",
        "outputId": "49bea030-ba06-4ddb-a967-ec2fd876ac5a"
      },
      "execution_count": null,
      "outputs": [
        {
          "output_type": "execute_result",
          "data": {
            "text/plain": [
              "'h'"
            ],
            "application/vnd.google.colaboratory.intrinsic+json": {
              "type": "string"
            }
          },
          "metadata": {},
          "execution_count": 60
        }
      ]
    },
    {
      "cell_type": "code",
      "source": [
        "    s_1=\"i am studying\"\n",
        "    s_2=\"in KGRCET\"\n",
        "    s_3=print(s_1+s_2)"
      ],
      "metadata": {
        "colab": {
          "base_uri": "https://localhost:8080/"
        },
        "id": "QXLgB8ciJpix",
        "outputId": "832396ff-97e7-4ddb-8c25-1cd22a7d090b"
      },
      "execution_count": null,
      "outputs": [
        {
          "output_type": "stream",
          "name": "stdout",
          "text": [
            "i am studyingin KGRCET\n"
          ]
        }
      ]
    },
    {
      "cell_type": "code",
      "source": [
        "s_1=\"i am studying\"\n",
        "s_2=\"1st year in kgrcet\"\n",
        "s_3=print(s_1+s_2)"
      ],
      "metadata": {
        "colab": {
          "base_uri": "https://localhost:8080/"
        },
        "id": "0YtP1Wt5Kzf-",
        "outputId": "d9126aab-5cb6-45d9-d9f5-d348692d897f"
      },
      "execution_count": null,
      "outputs": [
        {
          "output_type": "stream",
          "name": "stdout",
          "text": [
            "i am studying1st year in kgrcet\n"
          ]
        }
      ]
    },
    {
      "cell_type": "code",
      "source": [],
      "metadata": {
        "id": "AJ-ERJI_MxmX"
      },
      "execution_count": null,
      "outputs": []
    },
    {
      "cell_type": "code",
      "source": [
        "print(\"charanya\"*10)"
      ],
      "metadata": {
        "colab": {
          "base_uri": "https://localhost:8080/"
        },
        "id": "rV4dt-UFMaRR",
        "outputId": "9658e261-c0dd-420e-fcf0-a08ff43a497e"
      },
      "execution_count": null,
      "outputs": [
        {
          "output_type": "stream",
          "name": "stdout",
          "text": [
            "charanyacharanyacharanyacharanyacharanyacharanyacharanyacharanyacharanyacharanya\n"
          ]
        }
      ]
    },
    {
      "cell_type": "code",
      "source": [
        "a=[1,2,3]\n",
        "print(a)"
      ],
      "metadata": {
        "colab": {
          "base_uri": "https://localhost:8080/"
        },
        "id": "UTAk_alJNvPl",
        "outputId": "09251a9a-564a-481e-bf2c-19e64b5e3462"
      },
      "execution_count": null,
      "outputs": [
        {
          "output_type": "stream",
          "name": "stdout",
          "text": [
            "[1, 2, 3]\n"
          ]
        }
      ]
    },
    {
      "cell_type": "code",
      "source": [
        "b=[\"charannya\",\"hello\",\"challa\"]\n",
        "print(b)"
      ],
      "metadata": {
        "colab": {
          "base_uri": "https://localhost:8080/"
        },
        "id": "LCvS0X5QXyum",
        "outputId": "a88eb154-51d1-4c8b-d412-4b5dc747aa96"
      },
      "execution_count": null,
      "outputs": [
        {
          "output_type": "stream",
          "name": "stdout",
          "text": [
            "['charannya', 'hello', 'challa']\n"
          ]
        }
      ]
    },
    {
      "cell_type": "code",
      "source": [
        "a=[1,2,3]\n",
        "b=[a,\"charannya\",\"sneha\"]\n",
        "print(b)"
      ],
      "metadata": {
        "colab": {
          "base_uri": "https://localhost:8080/"
        },
        "id": "QdEzJ9aeYI-l",
        "outputId": "3708868c-2205-40f6-c985-20227a64ccda"
      },
      "execution_count": null,
      "outputs": [
        {
          "output_type": "stream",
          "name": "stdout",
          "text": [
            "[[1, 2, 3], 'charannya', 'sneha']\n"
          ]
        }
      ]
    },
    {
      "cell_type": "code",
      "source": [
        "alpha_list=[65,78,12,50]\n",
        "alpha_list.sort()\n",
        "alpha_list\n"
      ],
      "metadata": {
        "colab": {
          "base_uri": "https://localhost:8080/"
        },
        "id": "0_YJ_nAoZOJh",
        "outputId": "8ab394c8-b172-426b-fde0-9ad985ef67df"
      },
      "execution_count": null,
      "outputs": [
        {
          "output_type": "execute_result",
          "data": {
            "text/plain": [
              "[12, 50, 65, 78]"
            ]
          },
          "metadata": {},
          "execution_count": 79
        }
      ]
    },
    {
      "cell_type": "code",
      "source": [
        "beta_list=(89,15)\n",
        "beta_list.append(12)\n",
        "beta_list"
      ],
      "metadata": {
        "colab": {
          "base_uri": "https://localhost:8080/",
          "height": 176
        },
        "id": "RqLDmFOXcY04",
        "outputId": "e263e69a-d91f-40b1-99c5-4b816553b816"
      },
      "execution_count": null,
      "outputs": [
        {
          "output_type": "error",
          "ename": "AttributeError",
          "evalue": "'tuple' object has no attribute 'append'",
          "traceback": [
            "\u001b[0;31m---------------------------------------------------------------------------\u001b[0m",
            "\u001b[0;31mAttributeError\u001b[0m                            Traceback (most recent call last)",
            "\u001b[0;32m<ipython-input-87-c7ce73a0204b>\u001b[0m in \u001b[0;36m<cell line: 0>\u001b[0;34m()\u001b[0m\n\u001b[1;32m      1\u001b[0m \u001b[0mbeta_list\u001b[0m\u001b[0;34m=\u001b[0m\u001b[0;34m(\u001b[0m\u001b[0;36m89\u001b[0m\u001b[0;34m,\u001b[0m\u001b[0;36m15\u001b[0m\u001b[0;34m)\u001b[0m\u001b[0;34m\u001b[0m\u001b[0;34m\u001b[0m\u001b[0m\n\u001b[0;32m----> 2\u001b[0;31m \u001b[0mbeta_list\u001b[0m\u001b[0;34m.\u001b[0m\u001b[0mappend\u001b[0m\u001b[0;34m(\u001b[0m\u001b[0;36m12\u001b[0m\u001b[0;34m)\u001b[0m\u001b[0;34m\u001b[0m\u001b[0;34m\u001b[0m\u001b[0m\n\u001b[0m\u001b[1;32m      3\u001b[0m \u001b[0mbeta_list\u001b[0m\u001b[0;34m\u001b[0m\u001b[0;34m\u001b[0m\u001b[0m\n",
            "\u001b[0;31mAttributeError\u001b[0m: 'tuple' object has no attribute 'append'"
          ]
        }
      ]
    },
    {
      "cell_type": "markdown",
      "source": [
        "day-3"
      ],
      "metadata": {
        "id": "N-fer8RIuqmt"
      }
    },
    {
      "cell_type": "code",
      "source": [
        "i=1\n",
        "while i<8:\n",
        "  print(i)\n",
        "  if i==4:\n",
        "    break\n",
        "  i+=1"
      ],
      "metadata": {
        "id": "tW6srC-TdN6d",
        "colab": {
          "base_uri": "https://localhost:8080/"
        },
        "outputId": "2bb29d7a-b875-4354-9578-1533a54fb348"
      },
      "execution_count": 2,
      "outputs": [
        {
          "output_type": "stream",
          "name": "stdout",
          "text": [
            "1\n",
            "2\n",
            "3\n",
            "4\n"
          ]
        }
      ]
    },
    {
      "cell_type": "code",
      "source": [
        "i=8\n",
        "while i>0:\n",
        "  print(i)\n",
        "  if i==2:\n",
        "     break\n",
        "  i-=1"
      ],
      "metadata": {
        "colab": {
          "base_uri": "https://localhost:8080/",
          "height": 106
        },
        "collapsed": true,
        "id": "kuE4v3mfnFIf",
        "outputId": "bd860754-23bf-48d0-cd9c-5b2b9ae3b5ab"
      },
      "execution_count": 1,
      "outputs": [
        {
          "output_type": "error",
          "ename": "SyntaxError",
          "evalue": "expected ':' (<ipython-input-1-d957cf8e8a5a>, line 4)",
          "traceback": [
            "\u001b[0;36m  File \u001b[0;32m\"<ipython-input-1-d957cf8e8a5a>\"\u001b[0;36m, line \u001b[0;32m4\u001b[0m\n\u001b[0;31m    if i==2\u001b[0m\n\u001b[0m           ^\u001b[0m\n\u001b[0;31mSyntaxError\u001b[0m\u001b[0;31m:\u001b[0m expected ':'\n"
          ]
        }
      ]
    },
    {
      "cell_type": "code",
      "source": [
        "i=8\n",
        "while i>0:\n",
        "  print(i)\n",
        "  if i==2:\n",
        "    break\n",
        "  i-=1"
      ],
      "metadata": {
        "id": "qmhtRxKfnyHL"
      },
      "execution_count": null,
      "outputs": []
    },
    {
      "cell_type": "code",
      "source": [
        "for number in [1,2,4,3,5,6,20,10]:\n",
        "  if number==6:\n",
        "    break\n",
        "  print(number)\n",
        "print(\"bye\")\n"
      ],
      "metadata": {
        "colab": {
          "base_uri": "https://localhost:8080/"
        },
        "id": "7Pzz24NbppkG",
        "outputId": "04376433-32df-40d7-8707-e7b4d01e894b"
      },
      "execution_count": 4,
      "outputs": [
        {
          "output_type": "stream",
          "name": "stdout",
          "text": [
            "1\n",
            "2\n",
            "4\n",
            "3\n",
            "5\n",
            "bye\n"
          ]
        }
      ]
    },
    {
      "cell_type": "code",
      "source": [
        "for number in [5,7,9,20,18,57,87]:\n",
        "  if number==20:\n",
        "    continue\n",
        "  print(number)\n",
        "print(\"bye\")\n",
        ""
      ],
      "metadata": {
        "colab": {
          "base_uri": "https://localhost:8080/"
        },
        "id": "3rWliShurJcL",
        "outputId": "71d1948e-cd12-4891-b8b9-4702de21e9af"
      },
      "execution_count": 6,
      "outputs": [
        {
          "output_type": "stream",
          "name": "stdout",
          "text": [
            "5\n",
            "7\n",
            "9\n",
            "18\n",
            "57\n",
            "87\n",
            "bye\n"
          ]
        }
      ]
    },
    {
      "cell_type": "code",
      "source": [
        "i=1\n",
        "while i<11:\n",
        "  if i==6:\n",
        "    break\n",
        "  print(i)\n",
        "  i=i+1\n",
        "print(\"bye\")\n"
      ],
      "metadata": {
        "colab": {
          "base_uri": "https://localhost:8080/"
        },
        "id": "-E1H2yAYsz18",
        "outputId": "aa62dcf7-3153-45df-a922-a94eee1b9f0a"
      },
      "execution_count": 7,
      "outputs": [
        {
          "output_type": "stream",
          "name": "stdout",
          "text": [
            "1\n",
            "2\n",
            "3\n",
            "4\n",
            "5\n",
            "bye\n"
          ]
        }
      ]
    },
    {
      "cell_type": "code",
      "source": [
        "i=1\n",
        "while i<11:\n",
        "  if i==6:\n",
        "    continue\n",
        "  print(i)\n",
        "  i=i+1\n",
        "print(\"bye\")\n"
      ],
      "metadata": {
        "colab": {
          "base_uri": "https://localhost:8080/"
        },
        "id": "4CLYxCGFtmfR",
        "outputId": "4f06529b-9225-47fe-f2ba-6a800176f615"
      },
      "execution_count": null,
      "outputs": [
        {
          "output_type": "stream",
          "name": "stdout",
          "text": [
            "1\n",
            "2\n",
            "3\n",
            "4\n",
            "5\n"
          ]
        }
      ]
    },
    {
      "cell_type": "code",
      "source": [],
      "metadata": {
        "id": "n2MWlcWNuQQ_"
      },
      "execution_count": null,
      "outputs": []
    },
    {
      "cell_type": "code",
      "source": [
        "i=1\n",
        "while i<11:\n",
        "  if i==6:\n",
        "    i=i+1\n",
        "    continue\n",
        "  print(i)\n",
        "  i=i+1\n",
        "print(\"bye\")"
      ],
      "metadata": {
        "colab": {
          "base_uri": "https://localhost:8080/"
        },
        "id": "9_rJiFB1vTM8",
        "outputId": "c49f5711-a6ed-4cdf-a439-c999b1846a28"
      },
      "execution_count": 11,
      "outputs": [
        {
          "output_type": "stream",
          "name": "stdout",
          "text": [
            "1\n",
            "2\n",
            "3\n",
            "4\n",
            "5\n",
            "7\n",
            "8\n",
            "9\n",
            "10\n",
            "bye\n",
            "1\n",
            "2\n",
            "3\n",
            "4\n",
            "5\n",
            "7\n",
            "8\n",
            "9\n",
            "10\n",
            "bye\n"
          ]
        }
      ]
    },
    {
      "cell_type": "code",
      "source": [],
      "metadata": {
        "id": "NHG-jr18wH2h"
      },
      "execution_count": null,
      "outputs": []
    },
    {
      "cell_type": "code",
      "source": [
        " num=12\n",
        " for i in range(1,11):\n",
        "    print('x',i,'='num*1)"
      ],
      "metadata": {
        "id": "YHf_plr3w_C3"
      },
      "execution_count": null,
      "outputs": []
    },
    {
      "cell_type": "code",
      "source": [
        "rows=5\n",
        "for i in ramge(i)\n",
        "   for j in range (i):\n",
        "    print('*',end='')\n",
        "print()"
      ],
      "metadata": {
        "id": "ygQ5xJ3Gz3ro"
      },
      "execution_count": null,
      "outputs": []
    },
    {
      "cell_type": "code",
      "source": [
        "def name():\n",
        "    print(\""
      ],
      "metadata": {
        "id": "0lGoe2Ff12zB"
      },
      "execution_count": null,
      "outputs": []
    }
  ]
}
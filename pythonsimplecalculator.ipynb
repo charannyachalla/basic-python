{
  "nbformat": 4,
  "nbformat_minor": 0,
  "metadata": {
    "colab": {
      "provenance": []
    },
    "kernelspec": {
      "name": "python3",
      "display_name": "Python 3"
    },
    "language_info": {
      "name": "python"
    }
  },
  "cells": [
    {
      "cell_type": "markdown",
      "source": [
        "#simple calculator"
      ],
      "metadata": {
        "id": "fpf2OgOdTWRl"
      }
    },
    {
      "cell_type": "code",
      "source": [
        "def add(x,y):\n",
        "  return x+y\n",
        "def subtract(x,y):\n",
        "  return x-y\n",
        "def multiply(x,y):\n",
        "  return x*y\n",
        "def devide(x,y):\n",
        "  if y!=0:\n",
        "     return x/y\n",
        "  else:\n",
        "    return\"error! division by zero\"\n",
        "def calculator():\n",
        "    print(\"simple calculator\")\n",
        "    print(\"choose operation\")\n",
        "    print(\"1.add\")\n",
        "    print(\"2.subtract\")\n",
        "    print(\"3.multiply\")\n",
        "    print(\"4.divide\")\n",
        "    while True:\n",
        "      choice=input(\"enter choice(1/2/3/4):\")\n",
        "      if choice in ['1','2','3','4']:\n",
        "        num1=float(input(\"enter first number:\"))\n",
        "        num2=float(input(\"enter second number:\"))\n",
        "        if choice=='1':\n",
        "          print(f\"the result is {add (num1,num2)}\")\n",
        "        elif choice=='2':\n",
        "           print(f\"the result is {subtract (num1,num2)}\")\n",
        "        elif choice=='3':\n",
        "          print(f\"the result is {multiply (num1,num2)}\")\n",
        "        elif choice=='4':\n",
        "          print(f\"the result is {divide (num1,num2)}\")\n",
        "      next_calculation=input(\"do you want to another calculation? (yes/no):\")\n",
        "      if next_calculation.lower()!='yes':\n",
        "         break\n",
        "    else:\n",
        "      print(\"Invalid Input\")\n",
        "calculator()"
      ],
      "metadata": {
        "colab": {
          "base_uri": "https://localhost:8080/"
        },
        "id": "3f8mHHV4Tbgk",
        "outputId": "a302369b-4847-42d3-d714-187cb2fcf989"
      },
      "execution_count": 26,
      "outputs": [
        {
          "name": "stdout",
          "output_type": "stream",
          "text": [
            "simple calculator\n",
            "choose operation\n",
            "1.add\n",
            "2.subtract\n",
            "3.multiply\n",
            "4.divide\n",
            "enter choice(1/2/3/4):1\n",
            "enter first number:7\n",
            "enter second number:8\n",
            "the result is 15.0\n",
            "do you want to another calculation? (yes/no):yes\n",
            "enter choice(1/2/3/4):2\n",
            "enter first number:7\n",
            "enter second number:6\n",
            "the result is 1.0\n",
            "do you want to another calculation? (yes/no):yes\n",
            "enter choice(1/2/3/4):3\n",
            "enter first number:6\n",
            "enter second number:8\n",
            "the result is 48.0\n",
            "do you want to another calculation? (yes/no):no\n"
          ]
        }
      ]
    },
    {
      "cell_type": "code",
      "source": [],
      "metadata": {
        "id": "bX4Acqu4YgmN"
      },
      "execution_count": 22,
      "outputs": []
    }
  ]
}